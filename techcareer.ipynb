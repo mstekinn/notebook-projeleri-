{
 "cells": [
  {
   "cell_type": "code",
   "execution_count": 1,
   "id": "4b2c0085-2266-4fca-ae17-ee8d691a3fd0",
   "metadata": {},
   "outputs": [
    {
     "name": "stdout",
     "output_type": "stream",
     "text": [
      "Merhaba, benim adım 'muhammet safa tekin', 24 yaşındayım ,'Bandırma Onyedi Eylül Üniversitesinde okuyorum' ve not ortalamam 2.76.\n"
     ]
    }
   ],
   "source": [
    "print(f\"Merhaba, benim adım 'muhammet safa tekin', {24} yaşındayım ,'Bandırma Onyedi Eylül Üniversitesinde okuyorum' ve not ortalamam {2.76}.\")"
   ]
  },
  {
   "cell_type": "code",
   "execution_count": null,
   "id": "2b936cef-59d0-4dc2-82eb-940cd6794676",
   "metadata": {},
   "outputs": [],
   "source": []
  }
 ],
 "metadata": {
  "kernelspec": {
   "display_name": "Python [conda env:base] *",
   "language": "python",
   "name": "conda-base-py"
  },
  "language_info": {
   "codemirror_mode": {
    "name": "ipython",
    "version": 3
   },
   "file_extension": ".py",
   "mimetype": "text/x-python",
   "name": "python",
   "nbconvert_exporter": "python",
   "pygments_lexer": "ipython3",
   "version": "3.13.5"
  }
 },
 "nbformat": 4,
 "nbformat_minor": 5
}
